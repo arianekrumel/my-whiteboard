{
 "cells": [
  {
   "cell_type": "markdown",
   "metadata": {},
   "source": [
    "# Module 12 - Programming Assignment\n",
    "\n",
    "Ariane Krumel\n",
    "\n",
    "8/13/17"
   ]
  },
  {
   "cell_type": "code",
   "execution_count": null,
   "metadata": {
    "collapsed": true
   },
   "outputs": [],
   "source": [
    "from __future__ import division\n",
    "from IPython.core.display import *\n",
    "import math;\n",
    "import random;\n",
    "import copy;"
   ]
  },
  {
   "cell_type": "markdown",
   "metadata": {},
   "source": [
    "## Naive Bayes Classifier"
   ]
  },
  {
   "cell_type": "markdown",
   "metadata": {},
   "source": [
    "-----\n",
    "\n",
    "***read_data***\n",
    "\n",
    "This function reads data from files sourced from: http://archive.ics.uci.edu/ml/datasets/Mushroom Please note that this file is not included in the code submission.\n",
    "\n",
    "* `filename` String with name of input data file"
   ]
  },
  {
   "cell_type": "code",
   "execution_count": null,
   "metadata": {
    "collapsed": true
   },
   "outputs": [],
   "source": [
    "def read_data(filename):\n",
    "    with open( filename, 'r') as f:\n",
    "        file_data = [x for x in f.readlines()]\n",
    "    f.closed;\n",
    "    file_data_array = []\n",
    "    for line in file_data:\n",
    "        line = line.strip()\n",
    "        if line == \"\": continue\n",
    "        file_data_array.append([x for x in line])\n",
    "    return file_data_array;"
   ]
  },
  {
   "cell_type": "markdown",
   "metadata": {},
   "source": [
    "***set_attributes***\n",
    "\n",
    "This function sets up the attributes described in http://archive.ics.uci.edu/ml/machine-learning-databases/mushroom/agaricus-lepiota.names for data structure."
   ]
  },
  {
   "cell_type": "code",
   "execution_count": null,
   "metadata": {
    "collapsed": true
   },
   "outputs": [],
   "source": [
    "def set_attributes():\n",
    "    attributes = {}\n",
    "    attributes[\"cap_shape\"] = [\"b\", \"c\", \"x\", \"f\", \"k\", \"s\"]\n",
    "    attributes[\"cap_surface\"] = [\"f\", \"g\", \"y\", \"s\"]\n",
    "    attributes[\"cap_color\"] = [\"n\", \"b\", \"c\", \"g\", \"r\", \"p\", \"u\", \"e\", \"w\", \"y\"]\n",
    "    attributes[\"bruises\"] = [\"t\", \"f\"]\n",
    "    attributes[\"odor\"] = [\"a\", \"l\", \"c\", \"y\", \"f\", \"m\", \"n\", \"p\", \"s\"]\n",
    "    attributes[\"gill_attachment\"] = [\"a\", \"d\", \"f\", \"n\"]\n",
    "    attributes[\"gill_spacing\"] = [\"c\", \"w\", \"d\"]\n",
    "    attributes[\"gill_size\"] = [\"b\", \"n\"]\n",
    "    attributes[\"gill_color\"] = [\"k\", \"n\", \"b\", \"h\", \"g\", \"r\", \"o\", \"p\", \"u\", \"e\", \"w\", \"y\"]\n",
    "    attributes[\"stalk_shape\"] = [\"e\", \"t\"]\n",
    "    attributes[\"stalk_root\"] = [\"b\", \"c\", \"u\", \"e\", \"z\", \"r\", \"?\"]\n",
    "    attributes[\"stalk_surface_above_ring\"] = [\"f\", \"y\", \"k\", \"s\"]\n",
    "    attributes[\"stalk_surface_below_ring\"] = [\"f\", \"y\", \"k\", \"s\"]\n",
    "    attributes[\"stalk_color_above_ring\"] = [\"n\", \"b\", \"c\", \"g\", \"o\", \"p\", \"e\", \"w\", \"y\"]\n",
    "    attributes[\"stalk_color_below_ring\"] = [\"n\", \"b\", \"c\", \"g\", \"o\", \"p\", \"e\", \"w\", \"y\"]\n",
    "    attributes[\"veil_type\"] = [\"p\", \"u\"]\n",
    "    attributes[\"veil_color\"] = [\"n\", \"o\", \"w\", \"y\"]\n",
    "    attributes[\"ring_number\"] = [\"n\", \"o\", \"t\"]\n",
    "    attributes[\"ring_type\"] = [\"c\", \"e\", \"f\", \"l\", \"n\", \"p\", \"s\", \"z\"]\n",
    "    attributes[\"spore_print_color\"] = [\"k\", \"n\", \"b\", \"h\", \"r\", \"o\", \"u\", \"w\", \"y\"]\n",
    "    attributes[\"population\"] = [\"a\", \"c\", \"n\", \"s\", \"v\", \"y\"]\n",
    "    attributes[\"habitat\"] = [\"g\", \"l\", \"m\", \"p\", \"u\", \"w\", \"d\"]\n",
    "    return attributes\n",
    "\n",
    "attributes = set_attributes()\n",
    "\n",
    "print \"Attributes:\", attributes"
   ]
  },
  {
   "cell_type": "markdown",
   "metadata": {},
   "source": [
    "***load_data***\n",
    "\n",
    "This function takes the raw data from files and loads into data structures.\n",
    "\n",
    "* `filename` String with name of input data file"
   ]
  },
  {
   "cell_type": "code",
   "execution_count": null,
   "metadata": {
    "collapsed": true
   },
   "outputs": [],
   "source": [
    "def load_data(filename): \n",
    "    imported_data = read_data(filename);\n",
    "    random.shuffle(imported_data);\n",
    "    data = {};\n",
    "    for i in range(len(imported_data)):\n",
    "        data[i] = {};\n",
    "        data[i][\"label\"] = imported_data[i][0];\n",
    "        data[i][\"cap_shape\"] = imported_data[i][2];\n",
    "        data[i][\"cap_surface\"] = imported_data[i][4];\n",
    "        data[i][\"cap_color\"] = imported_data[i][6];\n",
    "        data[i][\"bruises\"] = imported_data[i][8];\n",
    "        data[i][\"odor\"] = imported_data[i][10];\n",
    "        data[i][\"gill_attachment\"] = imported_data[i][12];\n",
    "        data[i][\"gill_spacing\"] = imported_data[i][14];\n",
    "        data[i][\"gill_size\"] = imported_data[i][16];\n",
    "        data[i][\"gill_color\"] = imported_data[i][18];\n",
    "        data[i][\"stalk_shape\"] = imported_data[i][20];\n",
    "        data[i][\"stalk_root\"] = imported_data[i][22];\n",
    "        data[i][\"stalk_surface_above_ring\"] = imported_data[i][24];\n",
    "        data[i][\"stalk_surface_below_ring\"] = imported_data[i][26];\n",
    "        data[i][\"stalk_color_above_ring\"] = imported_data[i][28];\n",
    "        data[i][\"stalk_color_below_ring\"] = imported_data[i][30];\n",
    "        data[i][\"veil_type\"] = imported_data[i][32];\n",
    "        data[i][\"veil_color\"] = imported_data[i][34];\n",
    "        data[i][\"ring_number\"] = imported_data[i][36];\n",
    "        data[i][\"ring_type\"] = imported_data[i][38];\n",
    "        data[i][\"spore_print_color\"] = imported_data[i][40];\n",
    "        data[i][\"population\"] = imported_data[i][42];\n",
    "        data[i][\"habitat\"] = imported_data[i][44];\n",
    "    return data;\n",
    "\n",
    "data = load_data(\"agaricus-lepiota.data\");\n",
    "labels = [\"e\", \"p\"];\n",
    "default = labels[0];\n",
    "\n",
    "print \"Data example:\", data.get(0);\n",
    "print \"\\nLabels:\", labels"
   ]
  },
  {
   "cell_type": "markdown",
   "metadata": {},
   "source": [
    "***prep_data***\n",
    "\n",
    "This function randomizes the data and splits result into two (2) sets.\n",
    "\n",
    "* `data` Dictionary of test data"
   ]
  },
  {
   "cell_type": "code",
   "execution_count": null,
   "metadata": {
    "collapsed": true
   },
   "outputs": [],
   "source": [
    "def prep_data(data):\n",
    "    randomized_data = copy.deepcopy(data);\n",
    "    splitIndex = len(randomized_data)/2;\n",
    "    set1 = {};\n",
    "    set2 = {};\n",
    "    for d in randomized_data:\n",
    "        if d < splitIndex:\n",
    "            set1[d] = randomized_data[d];\n",
    "        else:\n",
    "            set2[d] = randomized_data[d];\n",
    "    return (set1, set2);\n",
    "\n",
    "(set1, set2) = prep_data(data);\n",
    "print set1.get(0);\n",
    "print \"Number in data sets:\", len(set1), len(set2);"
   ]
  },
  {
   "cell_type": "markdown",
   "metadata": {},
   "source": [
    "***find_best***\n",
    "\n",
    "This function returns the class label with the highest probability in a given results set.\n",
    "\n",
    "* `results` A list of all the probabilities for each class label"
   ]
  },
  {
   "cell_type": "code",
   "execution_count": null,
   "metadata": {
    "collapsed": true
   },
   "outputs": [],
   "source": [
    "def find_best(results):\n",
    "    bestLabel = \"no\"\n",
    "    bestValue = 0\n",
    "    \n",
    "    for result in results:\n",
    "        if results[result] > bestValue:\n",
    "            bestLabel = result\n",
    "            bestValue = results[result]\n",
    "    \n",
    "    return bestLabel;"
   ]
  },
  {
   "cell_type": "markdown",
   "metadata": {},
   "source": [
    "***naive_bayes_classify***\n",
    "\n",
    "This function returns a normalized probability for a given data instance. As a reminder, the Naive Bayes Classifier generates the un-normalized probabilities from the numerator of Bayes Rule:\n",
    "\n",
    "$$P(C|A) \\propto P(A|C)P(C)$$\n",
    "\n",
    "where C is the class and A are the attributes (data). Since the normalizer of Bayes Rule is the *sum* of all possible numerators and you have to calculate them all, the normalizer is just the sum of the probabilities.\n",
    "\n",
    "* `probs` Likelihood values for all attributes given a safe value\n",
    "* `instance` Single instance of data set"
   ]
  },
  {
   "cell_type": "code",
   "execution_count": null,
   "metadata": {
    "collapsed": true
   },
   "outputs": [],
   "source": [
    "def naive_bayes_classify(probs, instance):\n",
    "    results = {}\n",
    "    this_data = instance\n",
    "    n = len(data);\n",
    "    \n",
    "    not_normalized = {}\n",
    "    not_normalized[labels[1]] = 0\n",
    "    not_normalized[labels[0]] = 0\n",
    "    \n",
    "    for label in labels:\n",
    "        not_normalized[label] = p_labels[label]/n\n",
    "        for attribute in attributes:\n",
    "            not_normalized[label] *= likelihood[label][attribute][this_data[attribute]]\n",
    "            \n",
    "    results[labels[1]] = not_normalized[labels[1]]/(not_normalized[labels[1]]+not_normalized[labels[0]]);\n",
    "    results[labels[0]] = not_normalized[labels[0]]/(not_normalized[labels[1]]+not_normalized[labels[0]]);\n",
    "        \n",
    "    best = find_best(results)\n",
    "    \n",
    "    return (best, results)"
   ]
  },
  {
   "cell_type": "markdown",
   "metadata": {},
   "source": [
    "\n",
    "\n",
    "-----\n",
    "\n",
    "## Main Functions\n",
    "\n",
    "***learn***\n",
    "\n",
    "This function takes data and returns all necessary probabilties with 1+ smoothing. Returns a List of Tuples where each Tuple is a class and the *normalized* probability of that class.\n",
    "\n",
    "```\n",
    "[(\"e\", 0.98), (\"p\", 0.02)]\n",
    "```\n",
    "\n",
    "* `data` Dictionary of test data"
   ]
  },
  {
   "cell_type": "code",
   "execution_count": null,
   "metadata": {
    "collapsed": true
   },
   "outputs": [],
   "source": [
    "def learn(data):\n",
    "    n = len(data);\n",
    "    \n",
    "    p_labels = {};\n",
    "    likelihood = {}\n",
    "    for label in labels:\n",
    "        p_labels[label] = 1;\n",
    "        likelihood[label] = {}\n",
    "        for attribute in attributes:\n",
    "            likelihood[label][attribute] = {}\n",
    "            for value in attributes[attribute]:\n",
    "                likelihood[label][attribute][value] = 1;\n",
    "                \n",
    "    for d in data:\n",
    "        thisLabel = data[d][\"label\"];\n",
    "        p_labels[thisLabel] += 1\n",
    "        for attribute in attributes:\n",
    "            thisAttribute = data[d][attribute]\n",
    "            likelihood[thisLabel][attribute][thisAttribute] += 1.0\n",
    "            \n",
    "    for label in labels:\n",
    "        for attribute in attributes:\n",
    "            for value in attributes[attribute]:\n",
    "                likelihood[label][attribute][value] /= p_labels[label];\n",
    "    \n",
    "    return (likelihood, p_labels)\n",
    "\n",
    "(likelihood, p_labels) = learn(data)\n",
    "print \"Likelihood:\", likelihood"
   ]
  },
  {
   "cell_type": "markdown",
   "metadata": {},
   "source": [
    "***classify***\n",
    "\n",
    "This function takes a tree and a List of instances (possibly just one) and returns a list of classifications.\n",
    "\n",
    "* `data` Dictionary of test data\n",
    "* `likelihood` Calculated likelihood values"
   ]
  },
  {
   "cell_type": "code",
   "execution_count": null,
   "metadata": {
    "collapsed": true
   },
   "outputs": [],
   "source": [
    "def classify(data, likelihood):\n",
    "    classifications = {};\n",
    "    for d in data:\n",
    "        instance = data[d]\n",
    "        classifications[d] = naive_bayes_classify(likelihood, instance)\n",
    "    return classifications\n",
    "\n",
    "classifications = classify(data, likelihood)"
   ]
  },
  {
   "cell_type": "markdown",
   "metadata": {},
   "source": [
    "***evaluate***\n",
    "\n",
    "This function takes the classifications and the data and returns the error rate.\n",
    "\n",
    "$$error\\_rate=\\frac{errors}{n}$$\n",
    "\n",
    "* `data` Dictionary of test data\n",
    "* `classifications` Array of classifications"
   ]
  },
  {
   "cell_type": "code",
   "execution_count": null,
   "metadata": {
    "collapsed": true
   },
   "outputs": [],
   "source": [
    "def evaluate(data, classifications):\n",
    "    n = len(data);\n",
    "    errors = 0;\n",
    "    for d in data:\n",
    "        label = data.get(d).get(\"label\");\n",
    "        classified_label = classifications[d][0];\n",
    "        if label != classified_label:\n",
    "            errors += 1;\n",
    "    return errors/n;\n",
    "\n",
    "print evaluate(data, classifications);"
   ]
  },
  {
   "cell_type": "markdown",
   "metadata": {},
   "source": [
    "-----\n",
    "\n",
    "## Function Invocations\n",
    "\n",
    "Put your main function calls here."
   ]
  },
  {
   "cell_type": "code",
   "execution_count": null,
   "metadata": {
    "collapsed": true
   },
   "outputs": [],
   "source": [
    "#1. learn the probabilities for set 1\n",
    "(likelihood1, p_labels) = learn(set1)\n",
    "#2. classify set 2\n",
    "classifications1 = classify(set2, likelihood1)\n",
    "#3. evaluate the predictions\n",
    "evaluation1 = evaluate(set2, classifications1)\n",
    "\n",
    "print \"Evaluation of classification on set2\", evaluation1"
   ]
  },
  {
   "cell_type": "code",
   "execution_count": null,
   "metadata": {
    "collapsed": true
   },
   "outputs": [],
   "source": [
    "#4. learn the probabilities for set 2\n",
    "(likelihood2, p_labels) = learn(set2)\n",
    "#5. classify set 1\n",
    "classifications2 = classify(set1, likelihood2)\n",
    "#6. evalute the the predictions\n",
    "evaluation2 = evaluate(set1, classifications2)\n",
    "\n",
    "print \"Evaluation of classification on set1\", evaluation2"
   ]
  },
  {
   "cell_type": "code",
   "execution_count": null,
   "metadata": {
    "collapsed": true
   },
   "outputs": [],
   "source": [
    "#7. average the classification error.\n",
    "average_classification = (evaluation1 + evaluation2) / 2;\n",
    "\n",
    "print \"Average classification error:\", average_classification"
   ]
  },
  {
   "cell_type": "code",
   "execution_count": null,
   "metadata": {
    "collapsed": true
   },
   "outputs": [],
   "source": []
  }
 ],
 "metadata": {
  "kernelspec": {
   "display_name": "Python 3",
   "language": "python",
   "name": "python3"
  },
  "language_info": {
   "codemirror_mode": {
    "name": "ipython",
    "version": 3
   },
   "file_extension": ".py",
   "mimetype": "text/x-python",
   "name": "python",
   "nbconvert_exporter": "python",
   "pygments_lexer": "ipython3",
   "version": "3.6.2"
  }
 },
 "nbformat": 4,
 "nbformat_minor": 1
}
