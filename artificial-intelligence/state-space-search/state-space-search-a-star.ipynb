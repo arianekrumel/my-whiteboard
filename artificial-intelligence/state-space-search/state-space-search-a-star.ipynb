{
 "cells": [
  {
   "cell_type": "markdown",
   "metadata": {},
   "source": [
    "# State Space Search with A* Search\n",
    "\n",
    "Ariane Krumel\n",
    "\n",
    "June 4, 2017"
   ]
  },
  {
   "cell_type": "markdown",
   "metadata": {},
   "source": [
    "## The World\n",
    "\n",
    "Given a map like the one above, we can easily represent each row as a `List` and the entire map as `List of Lists`:"
   ]
  },
  {
   "cell_type": "code",
   "execution_count": 169,
   "metadata": {
    "collapsed": true
   },
   "outputs": [],
   "source": [
    "full_world = [\n",
    "  ['.', '.', '.', '.', '.', '*', '*', '*', '*', '*', '*', '*', '*', '*', '*', '.', '.', '.', '.', '.', '.', '.', '.', '.', '.', '.', '.'], \n",
    "  ['.', '.', '.', '.', '.', '.', '.', '*', '*', '*', '*', '*', '*', '*', '*', '*', '.', '.', 'x', 'x', 'x', 'x', 'x', 'x', 'x', '.', '.'], \n",
    "  ['.', '.', '.', '.', 'x', 'x', '*', '*', '*', '*', '*', '*', '*', '*', '*', '*', '*', 'x', 'x', 'x', '#', '#', '#', 'x', 'x', '#', '#'], \n",
    "  ['.', '.', '.', '.', '#', 'x', 'x', 'x', '*', '*', '*', '*', '~', '~', '*', '*', '*', '*', '*', '.', '.', '#', '#', 'x', 'x', '#', '.'], \n",
    "  ['.', '.', '.', '#', '#', 'x', 'x', '*', '*', '.', '.', '~', '~', '~', '~', '*', '*', '*', '.', '.', '.', '#', 'x', 'x', 'x', '#', '.'], \n",
    "  ['.', '#', '#', '#', 'x', 'x', '#', '#', '.', '.', '.', '.', '~', '~', '~', '~', '~', '.', '.', '.', '.', '.', '#', 'x', '#', '.', '.'], \n",
    "  ['.', '#', '#', 'x', 'x', '#', '#', '.', '.', '.', '.', '#', 'x', 'x', 'x', '~', '~', '~', '.', '.', '.', '.', '.', '#', '.', '.', '.'], \n",
    "  ['.', '.', '#', '#', '#', '#', '#', '.', '.', '.', '.', '.', '.', '#', 'x', 'x', 'x', '~', '~', '~', '.', '.', '#', '#', '#', '.', '.'], \n",
    "  ['.', '.', '.', '#', '#', '#', '.', '.', '.', '.', '.', '.', '#', '#', 'x', 'x', '.', '~', '~', '.', '.', '#', '#', '#', '.', '.', '.'], \n",
    "  ['.', '.', '.', '~', '~', '~', '.', '.', '#', '#', '#', 'x', 'x', 'x', 'x', '.', '.', '.', '~', '.', '#', '#', '#', '.', '.', '.', '.'], \n",
    "  ['.', '.', '~', '~', '~', '~', '~', '.', '#', '#', 'x', 'x', 'x', '#', '.', '.', '.', '.', '.', '#', 'x', 'x', 'x', '#', '.', '.', '.'], \n",
    "  ['.', '~', '~', '~', '~', '~', '.', '.', '#', 'x', 'x', '#', '.', '.', '.', '.', '~', '~', '.', '.', '#', 'x', 'x', '#', '.', '.', '.'], \n",
    "  ['~', '~', '~', '~', '~', '.', '.', '#', '#', 'x', 'x', '#', '.', '~', '~', '~', '~', '.', '.', '.', '#', 'x', '#', '.', '.', '.', '.'], \n",
    "  ['.', '~', '~', '~', '~', '.', '.', '#', '*', '*', '#', '.', '.', '.', '.', '~', '~', '~', '~', '.', '.', '#', '.', '.', '.', '.', '.'], \n",
    "  ['.', '.', '.', '.', 'x', '.', '.', '*', '*', '*', '*', '#', '#', '#', '#', '.', '~', '~', '~', '.', '.', '#', 'x', '#', '.', '.', '.'], \n",
    "  ['.', '.', '.', 'x', 'x', 'x', '*', '*', '*', '*', '*', '*', 'x', 'x', 'x', '#', '#', '.', '~', '.', '#', 'x', 'x', '#', '.', '.', '.'], \n",
    "  ['.', '.', 'x', 'x', '*', '*', '*', '*', '*', '*', '*', '*', '*', '*', 'x', 'x', 'x', '.', '.', 'x', 'x', 'x', '.', '.', '.', '.', '.'], \n",
    "  ['.', '.', '.', 'x', 'x', '*', '*', '*', '*', '*', '*', '*', '*', '*', '*', '*', 'x', 'x', 'x', 'x', '.', '.', '.', '.', '.', '.', '.'], \n",
    "  ['.', '.', '.', 'x', 'x', 'x', '*', '*', '*', '*', '*', '*', '*', '*', '.', '.', '.', '#', '#', '.', '.', '.', '.', '.', '.', '.', '.'], \n",
    "  ['.', '.', '.', '.', 'x', 'x', 'x', '*', '*', '*', '*', '*', '*', '.', '.', '.', '.', '.', '.', '.', '.', '.', '.', '~', '~', '~', '~'], \n",
    "  ['.', '.', '#', '#', '#', '#', 'x', 'x', '*', '*', '*', '*', '*', '.', 'x', '.', '.', '.', '.', '.', '~', '~', '~', '~', '~', '~', '~'], \n",
    "  ['.', '.', '.', '.', '#', '#', '#', 'x', 'x', 'x', '*', '*', 'x', 'x', '.', '.', '.', '.', '.', '.', '~', '~', '~', '~', '~', '~', '~'], \n",
    "  ['.', '.', '.', '.', '.', '.', '#', '#', '#', 'x', 'x', 'x', 'x', '.', '.', '.', '.', '#', '#', '.', '.', '~', '~', '~', '~', '~', '~'], \n",
    "  ['.', '#', '#', '.', '.', '#', '#', '#', '#', '#', '.', '.', '.', '.', '.', '#', '#', 'x', 'x', '#', '#', '.', '~', '~', '~', '~', '~'], \n",
    "  ['#', 'x', '#', '#', '#', '#', '.', '.', '.', '.', '.', 'x', 'x', 'x', '#', '#', 'x', 'x', '.', 'x', 'x', '#', '#', '~', '~', '~', '~'], \n",
    "  ['#', 'x', 'x', 'x', '#', '.', '.', '.', '.', '.', '#', '#', 'x', 'x', 'x', 'x', '#', '#', '#', '#', 'x', 'x', 'x', '~', '~', '~', '~'], \n",
    "  ['#', '#', '.', '.', '.', '.', '.', '.', '.', '.', '.', '.', '#', '#', '#', '#', '#', '.', '.', '.', '.', '#', '#', '#', '.', '.', '.']]"
   ]
  },
  {
   "cell_type": "code",
   "execution_count": 170,
   "metadata": {
    "collapsed": true
   },
   "outputs": [],
   "source": [
    "test_world = [\n",
    "  ['.', '*', '*', '*', '*', '*', '*'],\n",
    "  ['.', '*', '*', '*', '*', '*', '*'],\n",
    "  ['.', '*', '*', '*', '*', '*', '*'],\n",
    "  ['.', '.', '.', '.', '.', '.', '.'],\n",
    "  ['*', '*', '*', '*', '*', '*', '.'],\n",
    "  ['*', '*', '*', '*', '*', '*', '.'],\n",
    "  ['*', '*', '*', '*', '*', '*', '.'],\n",
    "]"
   ]
  },
  {
   "cell_type": "markdown",
   "metadata": {},
   "source": [
    "## States and State Representation\n",
    "\n",
    "The canonical pieces of a State Space Search problem are the States, Actions, Transitions and Costs. \n",
    "\n",
    "We'll start with the state representation. For the navigation problem, a state is the current position of the agent, `(x,y)`. The entire set of possible states is implicitly represented by the world map."
   ]
  },
  {
   "cell_type": "markdown",
   "metadata": {},
   "source": [
    "## Actions and Transitions\n",
    "\n",
    "Actions are given by a movement model. One is given below but can be changed for different assumptions.\n"
   ]
  },
  {
   "cell_type": "code",
   "execution_count": 171,
   "metadata": {
    "collapsed": true
   },
   "outputs": [],
   "source": [
    "cardinal_moves = [(0,-1), (1,0), (0,1), (-1,0)]"
   ]
  },
  {
   "cell_type": "markdown",
   "metadata": {},
   "source": [
    "## Costs\n",
    "\n",
    "We can encode the costs described in a `Dict`. One is given below but can be changed for different assumptions.\n",
    "\n",
    "```\n",
    "token   terrain    cost \n",
    ".       plains     1\n",
    "*       forest     3\n",
    "#       hills      5\n",
    "~       swamp      7\n",
    "x       mountains  impassible\n",
    "```"
   ]
  },
  {
   "cell_type": "code",
   "execution_count": 172,
   "metadata": {
    "collapsed": true
   },
   "outputs": [],
   "source": [
    "costs = { '.': 1, '*': 3, '#': 5, '~': 7}"
   ]
  },
  {
   "cell_type": "markdown",
   "metadata": {},
   "source": [
    "## A\\* Search Implementation"
   ]
  },
  {
   "cell_type": "markdown",
   "metadata": {},
   "source": [
    "## Helper Functions\n",
    "\n",
    "\n",
    "**retrieveBest**\n",
    "\n",
    "Retrieves the best candidate from the frontier.\n",
    "\n",
    "This function loops through all nodes in the frontier and returns a tuple of the candidate with the lowest f(n) = g(n) + h(n); g(n) is the cost of the step so far and h(n) is determined by the heuristic. This function removes the chosen tuple from the frontier."
   ]
  },
  {
   "cell_type": "code",
   "execution_count": 173,
   "metadata": {
    "collapsed": true
   },
   "outputs": [],
   "source": [
    "def retrieveBest(frontier, costs, heuristic):\n",
    "    bestStats = frontier[frontier.keys()[0]];\n",
    "    for candidate in frontier:\n",
    "        existingF = bestStats['g'] + bestStats['h'];\n",
    "        candidateF = frontier[candidate]['g'] + frontier[candidate]['h'];\n",
    "        if(candidateF < existingF):\n",
    "            bestStats = frontier[candidate];\n",
    "            \n",
    "    best = frontier.pop(bestStats['value'], None);\n",
    "    return best;"
   ]
  },
  {
   "cell_type": "markdown",
   "metadata": {},
   "source": [
    "**successors**\n",
    "\n",
    "Retrieves a valid child, if any, of current position in world given a particular movement.\n",
    "\n",
    "This function returns a tuple, or a 0 integer if the potential child is invalid. Children can be invalid if the move is not legal in the world, it has already been explored or the next step is impassable (mountain)."
   ]
  },
  {
   "cell_type": "code",
   "execution_count": 174,
   "metadata": {
    "collapsed": true
   },
   "outputs": [],
   "source": [
    "def successor(world, current, move, explored,currentAllStats, goal):\n",
    "    col = current[0] + move[0];\n",
    "    row = current[1] + move[1];\n",
    "    child = (col, row);\n",
    "    \n",
    "    if(row<0 or row>(len(world)-1)):\n",
    "        return 0;\n",
    "    elif(col < 0 or col>(len(world[row]) - 1)):\n",
    "        return 0;\n",
    "    elif(child in explored):\n",
    "        return 0;\n",
    "    elif(world[child[1]][child[0]] == \"x\"):\n",
    "        return 0;\n",
    "    else:\n",
    "        childType = world[child[1]][child[0]];\n",
    "        childCost = costs[childType];\n",
    "        g = currentAllStats['g'] + childCost;\n",
    "        h = heuristic(world, goal, child);\n",
    "        return {\"value\":(col, row), \"g\": g, \"h\": h};\n",
    "    \n",
    "    "
   ]
  },
  {
   "cell_type": "markdown",
   "metadata": {},
   "source": [
    "**create_path** \n",
    "\n",
    "Create the optimal path given explored set, start and goal.\n",
    "\n",
    "This function traces back from the goal to the start using the explored set from the search algorithm."
   ]
  },
  {
   "cell_type": "code",
   "execution_count": 175,
   "metadata": {
    "collapsed": true
   },
   "outputs": [],
   "source": [
    "def create_path(explored, start, goal):\n",
    "    path = [];\n",
    "    parent = explored[goal][\"parent\"];\n",
    "    move = explored[goal][\"move\"];\n",
    "    path.append(move);\n",
    "            \n",
    "    while parent != start:\n",
    "        current = parent;\n",
    "        parent = explored[current][\"parent\"];\n",
    "        move = explored[current][\"move\"];\n",
    "        path.append(move);\n",
    "            \n",
    "    path = path[::-1];\n",
    "    return path;"
   ]
  },
  {
   "cell_type": "markdown",
   "metadata": {},
   "source": [
    "**a_star_search**\n",
    "\n",
    "The `a_star_search` function uses the A\\* Search algorithm to solve a navigational problem for an agent in a grid world. It calculates a path from the start state to the goal state and returns the actions required to get from the start to the goal.\n",
    "\n",
    "* **world** is the starting state representation for a navigation problem.\n",
    "* **start** is the starting location, `(x, y)`.\n",
    "* **goal** is the desired end position, `(x, y)`.\n",
    "* **costs** is a `Dict` of costs for each type of terrain.\n",
    "* **moves** is the legal movement model expressed in offsets.\n",
    "* **heuristic** is a heuristic function that returns an estimate of the total cost $f(x)$ from the start to the goal through the current node, $x$. The heuristic function might change with the movement model.\n",
    "\n",
    "The function returns the offsets needed to get from start state to the goal as a `List`. For example, for the test world:\n",
    "\n",
    "```\n",
    "  ['.', '*', '*', '*', '*', '*', '*'],\n",
    "  ['.', '*', '*', '*', '*', '*', '*'],\n",
    "  ['.', '*', '*', '*', '*', '*', '*'],\n",
    "  ['.', '.', '.', '.', '.', '.', '.'],\n",
    "  ['*', '*', '*', '*', '*', '*', '.'],\n",
    "  ['*', '*', '*', '*', '*', '*', '.'],\n",
    "  ['*', '*', '*', '*', '*', '*', '.'],\n",
    "\n",
    "```\n",
    "\n",
    "it would return:\n",
    "\n",
    "`[(0,1), (0,1), (0,1), (1,0), (1,0), (1,0), (1,0), (1,0), (1,0), (0,1), (0,1), (0,1)]`\n",
    "\n",
    "Do not make unwarranted assumptions. For example, do not assume the starting point is always `(0, 0)` or that the goal is always in the lower right hand corner. Do not make any assumptions about the movement model beyond the requirement that they be offsets (it could be offets of 2!)."
   ]
  },
  {
   "cell_type": "code",
   "execution_count": 176,
   "metadata": {},
   "outputs": [],
   "source": [
    "def a_star_search( world, start, goal, costs, moves, heuristic):\n",
    "    frontier = {};\n",
    "    g = costs[world[start[0]][start[1]]];\n",
    "    h = heuristic(world, goal, start);\n",
    "    frontier[start] = {'parent': start, 'g': g, 'h': h, 'value': start, 'move': (-1,-1)};\n",
    "    \n",
    "    explored = {};\n",
    "    \n",
    "    while (frontier):\n",
    "        current = retrieveBest(frontier, costs, heuristic);\n",
    "        \n",
    "        if(current['value'] == goal):\n",
    "            explored[current['value']] = current;\n",
    "            path = create_path(explored, start, goal);\n",
    "            return path;\n",
    "        else:\n",
    "            for move in moves:\n",
    "                child = successor(world, current['value'], move, explored, current, goal);\n",
    "                if(child):\n",
    "                    frontier[child[\"value\"]] = {'parent': current['value'], 'g': child[\"g\"], 'h': child[\"h\"], 'value': child[\"value\"], 'move': move};\n",
    "            \n",
    "            explored[current['value']] = current;\n",
    "    return;"
   ]
  },
  {
   "cell_type": "markdown",
   "metadata": {},
   "source": [
    "**pretty_print_ele**\n",
    "\n",
    "Gets the appropriate symbol for the pretty print function representing map attributes.\n",
    "\n",
    "Uses a elseif sequence to determine symbol character according to movement given."
   ]
  },
  {
   "cell_type": "code",
   "execution_count": 177,
   "metadata": {
    "collapsed": true
   },
   "outputs": [],
   "source": [
    "def pretty_print_ele(move):    \n",
    "    col = move[0];\n",
    "    row = move[1];\n",
    "    \n",
    "    if(col==1):\n",
    "        symbol = \">\";\n",
    "    elif(col==-1):\n",
    "        symbol = \"^\";\n",
    "    elif(row==1):\n",
    "        symbol = \"v\";\n",
    "    elif(row==-1):\n",
    "        symbol = \"<\";\n",
    "    else:\n",
    "        symbol = \"*\";\n",
    "    \n",
    "    return symbol;"
   ]
  },
  {
   "cell_type": "markdown",
   "metadata": {},
   "source": [
    "**pretty_print_solution**\n",
    "\n",
    "The `pretty_print_solution` function prints an ASCII representation of the solution generated by the `a_star_search`. It uses the symbols `v`, `^`, `>`, `<` to represent actions and `G` to represent the goal. (Note the format of the output...there are no spaces, commas, or extraneous characters).\n",
    "\n",
    "This function first loops over all the world rows and columns to fill and temporary data structure with default asterisks. Then, starting from the starting node, it follows the given path to fill in the appropriate symbols to denote the resulting path."
   ]
  },
  {
   "cell_type": "code",
   "execution_count": 178,
   "metadata": {
    "collapsed": true
   },
   "outputs": [],
   "source": [
    "def pretty_print_solution( world, path, start):\n",
    "    pretty_world = [];\n",
    "    rows = len(world);\n",
    "    for row in range(rows):\n",
    "        columns = len (world[row]);\n",
    "        pretty_world_row = [];\n",
    "        for col in range(columns):\n",
    "            pretty_world_row.append(\"*\");\n",
    "        pretty_world.append(pretty_world_row);\n",
    "        \n",
    "    stepCol = start[0];\n",
    "    stepRow = start[1];\n",
    "    for move in path:\n",
    "        currentStep = (stepCol, stepRow);\n",
    "        stepCol += move[0];\n",
    "        stepRow += move[1];\n",
    "        nextStep = (stepCol, stepRow);\n",
    "        pretty_world[currentStep[1]][currentStep[0]] = pretty_print_ele(move);\n",
    "        \n",
    "    move = path[-1];\n",
    "    currentStep = (stepCol, stepRow);\n",
    "    pretty_world[currentStep[1]][currentStep[0]] = \"G\";\n",
    "    \n",
    "    rows = len(pretty_world);\n",
    "    for i in range(rows):\n",
    "        print ''.join(map(str, pretty_world[i]))\n",
    "    \n",
    "    return None"
   ]
  },
  {
   "cell_type": "markdown",
   "metadata": {},
   "source": [
    "**heuristic**\n",
    "\n",
    "Provides a heuristic, or a estimated cost to goal which is valid because it is equal to or less than the actual cost.\n",
    "\n",
    "This function is created with the Euclidean distance formula to provide a rough estimate to goal. The arguments required are the world, goal and current node to test."
   ]
  },
  {
   "cell_type": "code",
   "execution_count": 179,
   "metadata": {
    "collapsed": true
   },
   "outputs": [],
   "source": [
    "# heuristic function\n",
    "def heuristic(world, goal, current):\n",
    "    #pass\n",
    "    x = goal[0] - current[0];\n",
    "    y = goal[1] - current[1];\n",
    "    \n",
    "    distance = (x**2+y**2)**0.5;\n",
    "    return distance;"
   ]
  },
  {
   "cell_type": "markdown",
   "metadata": {},
   "source": [
    "# Execution\n",
    "\n",
    "Executing search and print on test world and full world."
   ]
  },
  {
   "cell_type": "code",
   "execution_count": 180,
   "metadata": {},
   "outputs": [
    {
     "name": "stdout",
     "output_type": "stream",
     "text": [
      "[(0, 1), (0, 1), (0, 1), (1, 0), (1, 0), (1, 0), (1, 0), (1, 0), (1, 0), (0, 1), (0, 1), (0, 1)]\n"
     ]
    }
   ],
   "source": [
    "test_path = a_star_search( test_world, (0, 0), (6, 6), costs, cardinal_moves, heuristic)\n",
    "print test_path "
   ]
  },
  {
   "cell_type": "code",
   "execution_count": 181,
   "metadata": {},
   "outputs": [
    {
     "name": "stdout",
     "output_type": "stream",
     "text": [
      "v******\n",
      "v******\n",
      "v******\n",
      ">>>>>>v\n",
      "******v\n",
      "******v\n",
      "******G\n"
     ]
    }
   ],
   "source": [
    "pretty_print_solution( test_world, test_path, (0, 0))"
   ]
  },
  {
   "cell_type": "code",
   "execution_count": 182,
   "metadata": {},
   "outputs": [
    {
     "name": "stdout",
     "output_type": "stream",
     "text": [
      "[(0, 1), (0, 1), (0, 1), (0, 1), (0, 1), (0, 1), (0, 1), (0, 1), (0, 1), (0, 1), (0, 1), (0, 1), (0, 1), (0, 1), (0, 1), (0, 1), (0, 1), (0, 1), (0, 1), (0, 1), (0, 1), (0, 1), (1, 0), (1, 0), (1, 0), (0, 1), (1, 0), (1, 0), (1, 0), (0, 1), (1, 0), (1, 0), (1, 0), (1, 0), (0, -1), (1, 0), (1, 0), (1, 0), (0, -1), (1, 0), (0, -1), (1, 0), (1, 0), (1, 0), (1, 0), (1, 0), (0, 1), (1, 0), (1, 0), (0, 1), (0, 1), (1, 0), (1, 0), (0, 1), (0, 1), (1, 0), (1, 0), (1, 0)]\n"
     ]
    }
   ],
   "source": [
    "full_path = a_star_search( full_world, (0, 0), (26, 26), costs, cardinal_moves, heuristic)\n",
    "print full_path"
   ]
  },
  {
   "cell_type": "code",
   "execution_count": 183,
   "metadata": {},
   "outputs": [
    {
     "name": "stdout",
     "output_type": "stream",
     "text": [
      "v**************************\n",
      "v**************************\n",
      "v**************************\n",
      "v**************************\n",
      "v**************************\n",
      "v**************************\n",
      "v**************************\n",
      "v**************************\n",
      "v**************************\n",
      "v**************************\n",
      "v**************************\n",
      "v**************************\n",
      "v**************************\n",
      "v**************************\n",
      "v**************************\n",
      "v**************************\n",
      "v**************************\n",
      "v**************************\n",
      "v**************************\n",
      "v**************************\n",
      "v**************************\n",
      "v*************>>>>>v*******\n",
      ">>>v*********><****>>v*****\n",
      "***>>>v***>>><*******v*****\n",
      "******>>>><**********>>v***\n",
      "***********************v***\n",
      "***********************>>>G\n"
     ]
    }
   ],
   "source": [
    "pretty_print_solution( full_world, full_path, (0, 0))"
   ]
  },
  {
   "cell_type": "markdown",
   "metadata": {},
   "source": [
    "# Advanced/Future Work"
   ]
  },
  {
   "cell_type": "markdown",
   "metadata": {},
   "source": [
    "*This section is not required but it is well worth your time to think about the task*\n",
    "\n",
    "Write a *general* `state_space_search` function that could solve any state space search problem using Depth First Search. One possible implementation would be to write `state_space_search` as a general higher order function that took problem specific functions for `is_goal`, `successors` and `path`. You would need a general way of dealing with states, perhaps as a `Tuple` representing the raw state and metadata: `(<state>, <metadata>)`."
   ]
  },
  {
   "cell_type": "code",
   "execution_count": null,
   "metadata": {
    "collapsed": true
   },
   "outputs": [],
   "source": []
  }
 ],
 "metadata": {
  "kernelspec": {
   "display_name": "Python 2",
   "language": "python",
   "name": "python2"
  },
  "language_info": {
   "codemirror_mode": {
    "name": "ipython",
    "version": 2
   },
   "file_extension": ".py",
   "mimetype": "text/x-python",
   "name": "python",
   "nbconvert_exporter": "python",
   "pygments_lexer": "ipython2",
   "version": "2.7.13"
  }
 },
 "nbformat": 4,
 "nbformat_minor": 1
}
